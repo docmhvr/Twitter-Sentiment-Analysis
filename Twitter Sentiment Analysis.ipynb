{
 "cells": [
  {
   "cell_type": "markdown",
   "id": "1f87f7f0-f018-4d74-8afc-88b8bedba628",
   "metadata": {},
   "source": [
    "# TWITTER SENTIMENT ANALYSIS"
   ]
  },
  {
   "cell_type": "code",
   "execution_count": 5,
   "id": "6a57dff5-63b0-4985-950e-bd3f4269048e",
   "metadata": {},
   "outputs": [],
   "source": [
    "import tweepy\n",
    "import pandas as pd"
   ]
  },
  {
   "cell_type": "code",
   "execution_count": 6,
   "id": "35e4dbed-51fd-451e-aa74-de2490b8bbd5",
   "metadata": {},
   "outputs": [],
   "source": [
    "consumer_key = 'BdONUGPS0uhCKyFdMTc0V0SXK'\n",
    "consumer_secret = 'NHpFeXu1WvNTFW1H9Jz9R3zE2ipUgKDBY40M47Ov3n2thYbtt0'\n",
    "access_token = '1765822708120793088-N3rFsfX4vyvrBTsAcCz4cVUOrer0BJ'\n",
    "access_token_secret = 'HVhXjJawCauc8SgZEcQ7oXSnIbpGNmt5DqGqpdWFMWp1M'\n",
    "\n",
    "auth = tweepy.OAuth1UserHandler(consumer_key, consumer_secret, access_token, access_token_secret)\n",
    "api = tweepy.API(auth)"
   ]
  },
  {
   "cell_type": "code",
   "execution_count": null,
   "id": "e62d9d47-b197-410e-bd62-8e53639f5dea",
   "metadata": {},
   "outputs": [],
   "source": [
    "query = ''\n",
    "max_tweets = 1500"
   ]
  }
 ],
 "metadata": {
  "kernelspec": {
   "display_name": "Python 3 (ipykernel)",
   "language": "python",
   "name": "python3"
  },
  "language_info": {
   "codemirror_mode": {
    "name": "ipython",
    "version": 3
   },
   "file_extension": ".py",
   "mimetype": "text/x-python",
   "name": "python",
   "nbconvert_exporter": "python",
   "pygments_lexer": "ipython3",
   "version": "3.12.2"
  }
 },
 "nbformat": 4,
 "nbformat_minor": 5
}
